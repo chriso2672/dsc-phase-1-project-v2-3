{
 "cells": [
  {
   "cell_type": "code",
   "execution_count": null,
   "metadata": {},
   "outputs": [],
   "source": [
    "import pandas as pd\n",
    "import numpy as np\n",
    "import re\n",
    "import seaborn as sns\n",
    "import matplotlib.pyplot as plt\n",
    "%matplotlib inline"
   ]
  },
  {
   "cell_type": "code",
   "execution_count": null,
   "metadata": {},
   "outputs": [],
   "source": [
    "def strToInt(x):\n",
    "    if ',' in x or '$' in x:\n",
    "        x = x.replace(',', '').replace('$', '')\n",
    "        return int(x)\n",
    "    else:\n",
    "        x = int(x)\n",
    "        return x\n",
    "\n",
    "def strtofloat(x):\n",
    "    if ',' in x:\n",
    "        x = x.replace(',', '')\n",
    "        x = float(x)* 1000000\n",
    "        return x\n",
    "    else:\n",
    "        x = float(x)\n",
    "        return x"
   ]
  },
  {
   "cell_type": "code",
   "execution_count": null,
   "metadata": {},
   "outputs": [],
   "source": [
    "tn_movie_budgets = pd.read_csv('data/tn.movie_budgets.csv')\n",
    "tn_movie_budgets['production_budget'] = tn_movie_budgets['production_budget'].map(lambda x: strToInt(x) if type(x) == str else x)\n",
    "tn_movie_budgets['domestic_gross'] = tn_movie_budgets['domestic_gross'].map(lambda x: strToInt(x) if type(x) == str else x)\n",
    "tn_movie_budgets['worldwide_gross'] = tn_movie_budgets['worldwide_gross'].map(lambda x: strToInt(x) if type(x) == str else x)\n",
    "tn_movie_budgets = tn_movie_budgets[tn_movie_budgets['worldwide_gross'] != 0]\n",
    "tn_movie_budgets.info()\n",
    "tn_movie_budgets.sort_values('worldwide_gross', ascending=False)[:20]"
   ]
  },
  {
   "cell_type": "code",
   "execution_count": null,
   "metadata": {},
   "outputs": [],
   "source": [
    "sns.set_style('darkgrid')\n",
    "fig, ax = plt.subplots(figsize=(11,9))\n",
    "\n",
    "x = tn_movie_budgets['production_budget']\n",
    "y = tn_movie_budgets['worldwide_gross']\n",
    "\n",
    "ax.set_title('Production Budget vs. Worldwide Gross')\n",
    "ax.set_xlabel('Production Budget')\n",
    "ax.set_ylabel(\"Worldwide Gross\")\n",
    "sns.regplot(x=x, y=y)\n",
    "plt.show();"
   ]
  },
  {
   "cell_type": "code",
   "execution_count": null,
   "metadata": {},
   "outputs": [],
   "source": []
  }
 ],
 "metadata": {
  "kernelspec": {
   "display_name": "Python (learn-env)",
   "language": "python",
   "name": "learn-env"
  },
  "language_info": {
   "codemirror_mode": {
    "name": "ipython",
    "version": 3
   },
   "file_extension": ".py",
   "mimetype": "text/x-python",
   "name": "python",
   "nbconvert_exporter": "python",
   "pygments_lexer": "ipython3",
   "version": "3.8.5"
  }
 },
 "nbformat": 4,
 "nbformat_minor": 4
}
