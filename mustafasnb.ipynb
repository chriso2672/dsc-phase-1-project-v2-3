{
 "cells": [
  {
   "cell_type": "markdown",
   "metadata": {},
   "source": [
    "## Final Project Submission\n",
    "\n",
    "Please fill out:\n",
    "* Student name: \n",
    "* Student pace: self paced / part time / full time\n",
    "* Scheduled project review date/time: \n",
    "* Instructor name: \n",
    "* Blog post URL:\n"
   ]
  },
  {
   "cell_type": "code",
   "execution_count": 1,
   "metadata": {},
   "outputs": [],
   "source": [
    "# Import necessary modules\n",
    "import pandas as pd \n",
    "import numpy as np\n",
    "import matplotlib.pyplot as plt\n",
    "import seaborn\n",
    "import re\n",
    "%matplotlib inline"
   ]
  },
  {
   "cell_type": "code",
   "execution_count": 2,
   "metadata": {},
   "outputs": [],
   "source": [
    "# Import files into Jupyter notebook\n",
    "\n",
    "bom_movie_gross = pd.read_csv('data/bom.movie_gross.csv') # Mustafa\n",
    "\n",
    "imdb_name_basics = pd.read_csv('data/imdb.name.basics.csv') # Andy\n",
    "imdb_title_akas = pd.read_csv('data/imdb.title.akas.csv') # Mustafa\n",
    "imdb_title_basics = pd.read_csv('data/imdb.title.basics.csv') # Andy\n",
    "imdb_title_crew = pd.read_csv('data/imdb.title.crew.csv') # Mustafa\n",
    "imdb_title_principles = pd.read_csv('data/imdb.title.principals.csv') # Chris\n",
    "imdb_title_ratings = pd.read_csv('data/imdb.title.ratings.csv') # Chris\n",
    "\n",
    "rt_movie_info = pd.read_csv('data/rt.movie_info.tsv', sep='\\t') # Mustafa\n",
    "rt_reviews = pd.read_csv('data/rt.reviews.tsv', sep='\\t', encoding= 'unicode_escape') # Chris\n",
    "\n",
    "tmdb_movies = pd.read_csv('data/tmdb.movies.csv') # Andy\n",
    "\n",
    "tn_movie_budgets = pd.read_csv('data/tn.movie_budgets.csv') # Andy"
   ]
  },
  {
   "cell_type": "code",
   "execution_count": null,
   "metadata": {},
   "outputs": [],
   "source": [
    "imdb_title_akas.set_index('title', inplace=True)\n",
    "tmdb_movies.set_index('title', inplace=True)"
   ]
  },
  {
   "cell_type": "code",
   "execution_count": null,
   "metadata": {},
   "outputs": [],
   "source": [
    "imdb_akas_tmdb_movies = imdb_title_akas.merge(tmdb_movies, on='title', how='inner')\n",
    "x= imdb_akas_tmdb_movies.groupby('title').mean().sort_values(by='vote_count', ascending = False)\n",
    "x = x[(x['vote_average'] > 7.5) & (x['vote_count'] > 5000) ]\n",
    "#imdb_akas_tmdb_movies.sort_values(by='vote_count', ascending = False).iloc[0:4000]"
   ]
  },
  {
   "cell_type": "code",
   "execution_count": 158,
   "metadata": {},
   "outputs": [],
   "source": [
    "def strtofloat(x):\n",
    "    if ',' in x:\n",
    "        x = x.replace(',', '')\n",
    "        x = float(x)* 1000000\n",
    "        return x\n",
    "    else:\n",
    "        x = float(x)\n",
    "        return x\n",
    "    \n",
    "#strtofloat(\"1,131.6\") \n",
    "bom_movie_gross['foreign_gross'] = bom_movie_gross['foreign_gross'].map(lambda x: strtofloat(x) if type(x) == str else x)\n",
    "# bom_movie_gross['foreign_gross'].map(lambda x: type(x))\n",
    "# bom_movie_gross['foreign_gross'][1872]\n",
    "#bom_movie_gross.sort_values('domestic_gross', ascending = False).info()"
   ]
  },
  {
   "cell_type": "code",
   "execution_count": 159,
   "metadata": {},
   "outputs": [
    {
     "data": {
      "text/plain": [
       "Text(0, 0.5, 'Dollars in hundred million')"
      ]
     },
     "execution_count": 159,
     "metadata": {},
     "output_type": "execute_result"
    },
    {
     "data": {
      "image/png": "[encoded data removed]",
      "text/plain": [
       "<Figure size 1080x576 with 1 Axes>"
      ]
     },
     "metadata": {
      "needs_background": "light"
     },
     "output_type": "display_data"
    }
   ],
   "source": [
    "# All missing value rows dropped \n",
    "bom_movie_gross_dropped = bom_movie_gross.dropna()\n",
    "# BOXPLOT OF NUM OF MOVIES PER DIRECTOR\n",
    "#fig,ax = plt.subplots(figsize=(15,8))\n",
    "#ax.boxplot(bom_movie_gross_dropped['studio'].value_counts().values, vert=False)\n",
    "\n",
    "# OBTAIN DESCRIPTIVE STATISTICS OF NUM OF MOVIES PER DIRECTOR\n",
    "bom_movie_gross_dropped['studio'].value_counts().describe()\n",
    "\n",
    "# EXTRACT STUDIOS WITH THREE OR MORE MOVIES INTO A LIST\n",
    "threeplusmoviestudios = [movie for movie in bom_movie_gross_dropped['studio'].value_counts().index if bom_movie_gross_dropped['studio'].value_counts()[movie] >= 3]\n",
    "\n",
    "# FILTER DATAFRAME SO THAT ONLY MOVIES MADE BY STUDIOS WITH THREE OR MORE MOVIES ARE DISPLAYED\n",
    "bom_movie_gross_dropped = bom_movie_gross_dropped[bom_movie_gross_dropped['studio'].isin(threeplusmoviestudios)]\n",
    "\n",
    "# ADD A COLUMN TO DATAFRAME WHICH HAS THE TOTAL GROSS OF EACH MOVIE IN THE DATAFRAME\n",
    "bom_movie_gross_dropped['total_gross'] = bom_movie_gross_dropped['domestic_gross']  + bom_movie_gross_dropped['foreign_gross'] \n",
    "\n",
    "# FIND AVERAGE TOTAL GROSS OF STUDIOS AND EXTRACT THE 10 STUDIOS WITH THE HIGHEST AVERAGE TOTAL GROSS \n",
    "bom_movie_gross_filtered = bom_movie_gross_dropped.groupby('studio').mean().sort_values('total_gross', ascending=False).iloc[0:10]\n",
    "\n",
    "# ONLY KEEP THE STUDIO AND TOTAL GROSS COLUMNS\n",
    "bom_movie_gross_filtered = bom_movie_gross_filtered['total_gross']\n",
    "bom_movie_gross_filtered\n",
    "\n",
    "fig,ax = plt.subplots(figsize=(15,8))\n",
    "ax.bar(bom_movie_gross_filtered.index, bom_movie_gross_filtered)\n",
    "ax.set_title(\"Top 10 Movie Studies With The Highest Gross Product Per Year\")\n",
    "ax.set_xlabel(\"Studios\")\n",
    "ax.set_ylabel(\"Dollars in hundred million\")"
   ]
  },
  {
   "cell_type": "code",
   "execution_count": 157,
   "metadata": {},
   "outputs": [
    {
     "data": {
      "text/plain": [
       "count      923.000000\n",
       "mean        79.146262\n",
       "std        569.411161\n",
       "min          1.000000\n",
       "25%          2.000000\n",
       "50%          5.000000\n",
       "75%         29.000000\n",
       "max      11612.000000\n",
       "Name: genres, dtype: float64"
      ]
     },
     "execution_count": 157,
     "metadata": {},
     "output_type": "execute_result"
    }
   ],
   "source": [
    "imdb_title_basics_and_title_ratings = imdb_title_basics.merge(imdb_title_ratings, on='tconst', how='inner')\n",
    "# imdb_title_basics_and_title_ratings_filtered = imdb_title_basics_and_title_ratings[imdb_title_basics_and_title_ratings['averagerating']>8]\n",
    "# imdb_title_basics_and_title_ratings_sorted = imdb_title_basics_and_title_ratings.sort_values('numvotes', ascending=False)\n",
    "# imdb_title_basics_and_title_ratings_groupbygenre = imdb_title_basics_and_title_ratings.groupby('genres').mean()\n",
    "# x = imdb_title_basics_and_title_ratings_groupbygenre.sort_values('averagerating', ascending=False)\n",
    "# x[x['numvotes'] > 1000]\n",
    "genre_value_counts = imdb_title_basics_and_title_ratings['genres'].value_counts()\n",
    "genre_value_counts.describe()\n",
    "\n",
    "#genre_value_counts.values\n",
    "# fiveplusmoviegenres = [genre for genre in genre_value_counts.index if genre_value_counts[genre] > 5]\n",
    "# df = imdb_title_basics_and_title_ratings.copy()\n",
    "# df[df['genres'].isin(fiveplusmoviegenres)]\n",
    "\n",
    "# imdb_title_basics_and_title_ratings['genres'].value_counts()\n",
    "\n",
    "\n",
    "#imdb_title_basics_and_title_ratings_sorted['genres'].value_counts()\n",
    "# imdb_dict = imdb_title_basics_and_title_ratings_sorted['genres'].value_counts().to_dict()\n",
    "# imdb_title_basics_and_title_ratings_sorted\n",
    "# new_dict = {}\n",
    "# for k,v in imdb_dict.items():\n",
    "#     temp = k.split(',')\n",
    "#     for t in temp:\n",
    "#         if t not in new_dict:\n",
    "#             new_dict[t] = v\n",
    "#         else: \n",
    "#             new_dict[t] += v\n",
    "\n",
    "# fig,ax = plt.subplots(figsize=(20,8))\n",
    "# ax.bar(list(new_dict), list(new_dict.values()))\n",
    "# ax.set_title(\"Frequency of Genres in Top 1000 Most Voted movies\")\n",
    "# ax.set_xlabel(\"Genres\")\n",
    "# ax.set_ylabel(\"Frequency\")"
   ]
  },
  {
   "cell_type": "markdown",
   "metadata": {},
   "source": [
    "# Genre vs Profits"
   ]
  },
  {
   "cell_type": "code",
   "execution_count": null,
   "metadata": {},
   "outputs": [],
   "source": [
    "# MERGE imdb_title_basics WHICH HAS GENRE INFO ON MOVIES WITH tn_movie_budgets\n",
    "df = imdb_title_basics.merge(tn_movie_budgets, left_on='primary_title', right_on='movie')\n",
    "# KEEP GENRES AND FINANCIAL COLUMNS ONLY AND DROP THE OTHERS\n",
    "df = df[['genres','production_budget','domestic_gross','worldwide_gross']]\n",
    "# DROP THE MOVIES WHICH HAVE UNDEFINED GENRES\n",
    "df = df.dropna()\n",
    "df.info()\n",
    "# df.info() tells us that production_budget, domestic_gross and worldwide_gross columns are objects. We need to \n",
    "# convert these columns to int in order to calculate total revenue of each movie\n",
    "\n",
    "df['production_budget'] = df['production_budget'].map(lambda x: int(x.replace(',', '').replace('$', '')))\n",
    "df['domestic_gross'] = df['domestic_gross'].map(lambda x: int(x.replace(',', '').replace('$', '')))\n",
    "df['worldwide_gross'] = df['worldwide_gross'].map(lambda x: int(x.replace(',', '').replace('$', '')))\n",
    "\n",
    "# MAKE A NEW COLUMN TOTAL_GROSS THAT CONTAINS THE TOTAL REVENUE OF EACH MOVIE\n",
    "df['total_gross'] = df['domestic_gross'] + df['worldwide_gross']\n",
    "# MAKE A NEW COLUMN PROFIT THAT CONTAINS THE PROFIT OF EACH MOVIE\n",
    "df['profit'] = df['total_gross'] - df['production_budget']\n",
    "# SORT DATAFRAME BASED ON PROFIT\n",
    "df = df.sort_values('profit', ascending=False).iloc[0:2483]\n",
    "df"
   ]
  },
  {
   "cell_type": "code",
   "execution_count": null,
   "metadata": {},
   "outputs": [],
   "source": [
    "imdb_title_basics['primary_title'] = imdb_title_basics['primary_title'].map(lambda x: re.sub('[.,:-]', '', x)) \n",
    "tn_movie_budgets['movie'] = tn_movie_budgets['movie'].map(lambda x: re.sub('[.,:-]', '', x))\n",
    "imdb_title_basics['primary_title'].iloc[41443]"
   ]
  },
  {
   "cell_type": "code",
   "execution_count": 151,
   "metadata": {},
   "outputs": [
    {
     "data": {
      "text/plain": [
       "Text(0, 0.5, 'Frequency')"
      ]
     },
     "execution_count": 151,
     "metadata": {},
     "output_type": "execute_result"
    },
    {
     "data": {
      "image/png": "[encoded data removed]",
      "text/plain": [
       "<Figure size 1224x576 with 1 Axes>"
      ]
     },
     "metadata": {
      "needs_background": "light"
     },
     "output_type": "display_data"
    }
   ],
   "source": [
    "imdb_title_basics['primary_title'] = imdb_title_basics['primary_title'].map(lambda x: re.sub('[.,:-]', '', x)) \n",
    "tn_movie_budgets['movie'] = tn_movie_budgets['movie'].map(lambda x: re.sub('[.,:-]', '', x))\n",
    "\n",
    "# MAKE A COLUMN called release_date_year WHICH HOLDS THE YEAR OF EACH MOVIE in tn_movie_budgets dataframe\n",
    "tn_movie_budgets['release_date_year'] = tn_movie_budgets['release_date'].map(lambda x: x[-4:])\n",
    "# MAKE A COLUMN called movie_and_year WHICH HOLDS THE CONCATENATED VERSION OF MOVIE AND YEAR OF EACH MOVIE \n",
    "tn_movie_budgets['movie_and_year'] = tn_movie_budgets['movie'] + tn_movie_budgets['release_date_year']\n",
    "# CONVERT START YEAR TO string \n",
    "imdb_title_basics['start_year_str'] = imdb_title_basics['start_year'].map(str)\n",
    "# MAKE A COLUMN called movie_and_year WHICH HOLDS THE CONCATENATED VERSION OF TITLE AND YEAR OF EACH MOVIE \n",
    "imdb_title_basics['title_and_year'] = imdb_title_basics['primary_title'] + imdb_title_basics['start_year_str']\n",
    "\n",
    "\n",
    "\n",
    "df = tn_movie_budgets.merge(imdb_title_basics, how='left', left_on='movie_and_year', right_on='title_and_year')\n",
    "df['production_budget'] = df['production_budget'].map(lambda x: int(x.replace(',', '').replace('$', '')))\n",
    "df['domestic_gross'] = df['domestic_gross'].map(lambda x: int(x.replace(',', '').replace('$', '')))\n",
    "df['worldwide_gross'] = df['worldwide_gross'].map(lambda x: int(x.replace(',', '').replace('$', '')))\n",
    "# MAKE A NEW COLUMN TOTAL_GROSS THAT CONTAINS THE TOTAL REVENUE OF EACH MOVIE\n",
    "df['total_gross'] = df['domestic_gross'] + df['worldwide_gross']\n",
    "# MAKE A NEW COLUMN PROFIT THAT CONTAINS THE PROFIT OF EACH MOVIE\n",
    "df['profit'] = df['total_gross'] - df['production_budget']\n",
    "# SORT DATAFRAME BASED ON PROFIT\n",
    "df = df.sort_values('profit', ascending=False)\n",
    "# HARDCODE MISSING GENRES FOR THE TOP 50 MOVIES WITH LARGEST PROFITS\n",
    "df['genres'].iloc[0] = 'Action,Sci-Fi,Fantasy,Adventure'\n",
    "df['genres'].iloc[1] = 'Action,Sci-Fi,Fantasy,Adventure'\n",
    "df['genres'].iloc[2] = 'Romance,Drama'\n",
    "df['genres'].iloc[9] = 'Action,Sci-Fi,Fantasy,Adventure'\n",
    "df['genres'].iloc[11] = 'Drama,Fantasy,Adventure'\n",
    "df['genres'].iloc[15] = 'Action,Drama,Fantasy,Adventure'\n",
    "df['genres'].iloc[18] = 'Action,Sci-Fi,Fantasy,Adventure'\n",
    "df['genres'].iloc[21] = 'Action,Fantasy,Adventure'\n",
    "df['genres'].iloc[22] = 'Action,Adventure,Drama'\n",
    "df['genres'].iloc[23] = 'Animation,Drama,Adventure'\n",
    "df['genres'].iloc[25] = 'Animation,Comedy,Adventure'\n",
    "df['genres'].iloc[32] = 'Animation,Comedy,Adventure,Fantasy'\n",
    "df['genres'].iloc[34] = 'Action,Sci-Fi,Fantasy,Adventure'\n",
    "df['genres'].iloc[36] = 'Animation,Comedy,Adventure'\n",
    "df['genres'].iloc[37] = 'Adventure,Sci-Fi,Drama,Action,Fantasy'\n",
    "df['genres'].iloc[41] = 'Action,Adventure,Drama,Fantasy'\n",
    "df['genres'].iloc[43] = 'Adventure,Fantasy'\n",
    "df['genres'].iloc[49] = 'Action, Adventure, Fantasy'\n",
    "# HARDCODE MISSING GENRES FOR THE TOP 50 MOVIES WITH LARGEST PROFITS\n",
    "top_50_movies = df.iloc[0:50]\n",
    "top_50_movies_genre_distribution = top_50_movies['genres'].value_counts()\n",
    "top_50_movies_genre_distribution\n",
    "\n",
    "# TAKE THE TOP 5 GENRE COMBINATIONS \n",
    "top_5_genre_combinations = top_50_movies_genre_distribution[0:5]\n",
    "\n",
    "fig,ax = plt.subplots(figsize=(17,8))\n",
    "ax.bar(top_5_genre_combinations.index, top_5_genre_combinations.values)\n",
    "ax.set_title(\"Frequency of Genre Combinations in Top 50 Most Profit Generating Movies\")\n",
    "ax.set_xlabel(\"Genre Combinations\")\n",
    "ax.set_ylabel(\"Frequency\")"
   ]
  },
  {
   "cell_type": "code",
   "execution_count": 155,
   "metadata": {},
   "outputs": [
    {
     "data": {
      "text/plain": [
       "Text(0, 0.5, 'Frequency')"
      ]
     },
     "execution_count": 155,
     "metadata": {},
     "output_type": "execute_result"
    },
    {
     "data": {
      "image/png": "[encoded data removed]",
      "text/plain": [
       "<Figure size 1440x576 with 1 Axes>"
      ]
     },
     "metadata": {
      "needs_background": "light"
     },
     "output_type": "display_data"
    }
   ],
   "source": [
    "top_50_movies_genre_distribution\n",
    "top_50_movies_genre_distribution_dict = top_50_movies_genre_distribution.to_dict()\n",
    "top_50_movies_genre_distribution_dict\n",
    "new_dict = {}\n",
    "for k,v in top_50_movies_genre_distribution_dict.items():\n",
    "    temp = k.split(',')\n",
    "    for t in temp:\n",
    "        if t not in new_dict:\n",
    "            new_dict[t] = v\n",
    "        else: \n",
    "            new_dict[t] += v\n",
    "new_dict = {k: v for k, v in sorted(new_dict.items(), key=lambda x: x[1], reverse=True)}\n",
    "new_dict\n",
    "\n",
    "fig,ax = plt.subplots(figsize=(20,8))\n",
    "ax.bar(list(new_dict), list(new_dict.values()))\n",
    "ax.set_title(\"Frequency of Genres in Top Top 50 Most Profit Generating Movies\")\n",
    "ax.set_xlabel(\"Genres\")\n",
    "ax.set_ylabel(\"Frequency\")"
   ]
  }
 ],
 "metadata": {
  "kernelspec": {
   "display_name": "Python 3",
   "language": "python",
   "name": "python3"
  },
  "language_info": {
   "codemirror_mode": {
    "name": "ipython",
    "version": 3
   },
   "file_extension": ".py",
   "mimetype": "text/x-python",
   "name": "python",
   "nbconvert_exporter": "python",
   "pygments_lexer": "ipython3",
   "version": "3.8.5"
  }
 },
 "nbformat": 4,
 "nbformat_minor": 2
}
